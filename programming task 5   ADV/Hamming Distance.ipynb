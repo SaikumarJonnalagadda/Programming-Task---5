{
  "nbformat": 4,
  "nbformat_minor": 0,
  "metadata": {
    "colab": {
      "provenance": []
    },
    "kernelspec": {
      "name": "python3",
      "display_name": "Python 3"
    },
    "language_info": {
      "name": "python"
    }
  },
  "cells": [
    {
      "cell_type": "code",
      "execution_count": null,
      "metadata": {
        "id": "hbVJlvtqNEqu"
      },
      "outputs": [],
      "source": [
        "class Solution:\n",
        "    def hammingDistance(self, x: int, y: int) -> int:\n",
        "        xbin=bin(x).replace(\"0b\",\"\")\n",
        "        ybin=bin(y).replace(\"0b\",\"\")\n",
        "        xbin=list(xbin)\n",
        "        ybin=list(ybin)\n",
        "        count=0\n",
        "        l=abs(len(xbin)-len(ybin))\n",
        "        for i in range(max(len(xbin),len(ybin))):\n",
        "            if i<l:\n",
        "                if x>y and xbin[i]!=\"0\":\n",
        "                    count+=1\n",
        "                elif y>x and ybin[i]!=\"0\":\n",
        "                    count+=1\n",
        "            else:\n",
        "                if x>y:\n",
        "                    if ybin[i-l]!=xbin[i]:\n",
        "                        count+=1\n",
        "                else:\n",
        "                     if ybin[i]!=xbin[i-l]:\n",
        "                         count+=1\n",
        "\n",
        "        return count"
      ]
    }
  ]
}