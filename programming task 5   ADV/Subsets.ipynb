{
  "nbformat": 4,
  "nbformat_minor": 0,
  "metadata": {
    "colab": {
      "provenance": []
    },
    "kernelspec": {
      "name": "python3",
      "display_name": "Python 3"
    },
    "language_info": {
      "name": "python"
    }
  },
  "cells": [
    {
      "cell_type": "code",
      "execution_count": null,
      "metadata": {
        "id": "hbVJlvtqNEqu"
      },
      "outputs": [],
      "source": [
        "class Solution:\n",
        "    def subsets(self, nums: List[int]) -> List[List[int]]:\n",
        "        ans=[]\n",
        "        for i in range(2**(len(nums))):\n",
        "            s=[]\n",
        "            for j in range(len(nums)):\n",
        "                if (i & 1<<j):\n",
        "                    s.append(nums[j])\n",
        "            ans.append(s)\n",
        "        return ans"
      ]
    }
  ]
}